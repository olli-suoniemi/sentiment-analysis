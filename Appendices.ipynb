{
 "cells": [
  {
   "cell_type": "code",
   "execution_count": 1,
   "id": "8cbcf8a3-6525-4148-ab64-46b1126dbe76",
   "metadata": {
    "tags": []
   },
   "outputs": [
    {
     "name": "stderr",
     "output_type": "stream",
     "text": [
      "[nltk_data] Downloading package stopwords to\n",
      "[nltk_data]     /home/suonieo1/nltk_data...\n",
      "[nltk_data]   Unzipping corpora/stopwords.zip.\n",
      "[nltk_data] Downloading package punkt to /home/suonieo1/nltk_data...\n",
      "[nltk_data]   Unzipping tokenizers/punkt.zip.\n"
     ]
    },
    {
     "data": {
      "text/plain": [
       "True"
      ]
     },
     "execution_count": 1,
     "metadata": {},
     "output_type": "execute_result"
    }
   ],
   "source": [
    "# Import all dependencies\n",
    "import pandas as pd\n",
    "from sklearn.model_selection import train_test_split, StratifiedKFold\n",
    "from sklearn.metrics import accuracy_score, classification_report, precision_recall_fscore_support\n",
    "from sklearn.linear_model import LogisticRegression\n",
    "from sklearn.utils import resample\n",
    "\n",
    "import nltk\n",
    "from nltk.corpus import stopwords\n",
    "from nltk.stem import PorterStemmer\n",
    "\n",
    "# Import the necessary libraries for Naive Bayes, Count Vectorization (BoW) and TfidfVectorizer (TD-IDF)\n",
    "from sklearn.naive_bayes import MultinomialNB\n",
    "from sklearn.feature_extraction.text import CountVectorizer, TfidfVectorizer\n",
    "\n",
    "nltk.download('stopwords')\n",
    "nltk.download('punkt')"
   ]
  },
  {
   "cell_type": "markdown",
   "id": "16227e4f-b152-4ad2-8692-b3c3e5fb3885",
   "metadata": {},
   "source": [
    "### Data introduction\n",
    "\n",
    "Here we read the data from the file and rename the columns to \"Text\" and \"Sentiment\".\n",
    "Then we drop off the column 'neutral'."
   ]
  },
  {
   "cell_type": "code",
   "execution_count": 2,
   "id": "8e6064d1-449e-43f6-b33f-be89e8821d99",
   "metadata": {
    "tags": []
   },
   "outputs": [
    {
     "name": "stdout",
     "output_type": "stream",
     "text": [
      "Shape of data:\n",
      "(1967, 2)\n",
      "\n",
      "Head:\n",
      "                                                Text Sentiment\n",
      "2  The international electronic industry company ...  negative\n",
      "3  With the new production plant the company woul...  positive\n",
      "4  According to the company 's updated strategy f...  positive\n",
      "5  FINANCING OF ASPOCOMP 'S GROWTH Aspocomp is ag...  positive\n",
      "6  For the last quarter of 2010 , Componenta 's n...  positive\n",
      "\n",
      "Positive Sentiments: 1363\n",
      "Negative Sentiments: 604\n",
      "\n",
      "Axes(0.125,0.11;0.775x0.77)\n"
     ]
    },
    {
     "data": {
      "image/png": "[encoded data removed]",
      "text/plain": [
       "<Figure size 640x480 with 1 Axes>"
      ]
     },
     "metadata": {},
     "output_type": "display_data"
    }
   ],
   "source": [
    "df = pd.read_csv('data.csv', delimiter=',', encoding='latin-1', header=None)\n",
    "df = df.rename(columns={0: 'Sentiment', 1: 'Text'})\n",
    "df = df[['Text', 'Sentiment']]\n",
    "\n",
    "df = df[df['Sentiment'] != 'neutral']\n",
    "\n",
    "print(\"Shape of data:\")\n",
    "print(df.shape)\n",
    "\n",
    "print()\n",
    "print(\"Head:\")\n",
    "print(df.head())\n",
    "\n",
    "print()\n",
    "\n",
    "sentiment_counts = df['Sentiment'].value_counts()\n",
    "\n",
    "# Access the counts for 'positive' and 'negative'\n",
    "positive_count = sentiment_counts['positive']\n",
    "negative_count = sentiment_counts['negative']\n",
    "\n",
    "print(\"Positive Sentiments:\", positive_count)\n",
    "print(\"Negative Sentiments:\", negative_count)\n",
    "\n",
    "print()\n",
    "\n",
    "print(df['Sentiment'].hist())"
   ]
  },
  {
   "cell_type": "markdown",
   "id": "d1894559-7268-4a8c-8e4c-7fd9eec1f9b0",
   "metadata": {},
   "source": [
    "### Data preprocessing\n",
    "\n",
    "Here we preprocess the data. We tokenize, remove punctuations and stopwords and stem the words.\n",
    "Then we split the data into training and testing sets with 80/20 split."
   ]
  },
  {
   "cell_type": "code",
   "execution_count": 3,
   "id": "23bb1d99-0096-455e-8b7c-05f7217cf9c8",
   "metadata": {
    "tags": []
   },
   "outputs": [],
   "source": [
    "# Create the preprocessing function\n",
    "def preprocess_text(text):\n",
    "    # Tokenization (split the text into words)\n",
    "    words = nltk.word_tokenize(text)\n",
    "    \n",
    "    # Remove punctuation and convert to lowercase\n",
    "    words = [word.lower() for word in words if word.isalpha()]\n",
    "    \n",
    "    # Remove stopwords\n",
    "    stop_words = set(stopwords.words('english'))\n",
    "    words = [word for word in words if word not in stop_words]\n",
    "    \n",
    "    # Stemming (reducing words to their root form)\n",
    "    stemmer = PorterStemmer()\n",
    "    words = [stemmer.stem(word) for word in words]\n",
    "    \n",
    "    # Join the cleaned words back into a single string\n",
    "    cleaned_text = ' '.join(words)\n",
    "    \n",
    "    return cleaned_text\n",
    "\n",
    "# Apply preprocessing to each text in the data\n",
    "df['Text'] = df['Text'].apply(preprocess_text)\n",
    "\n",
    "X = df['Text']\n",
    "y = df['Sentiment']\n",
    "X_train, X_test, y_train, y_test = train_test_split(X, y, test_size=0.20, shuffle=True, random_state=42)"
   ]
  },
  {
   "cell_type": "markdown",
   "id": "1cac54a8-a336-4df6-8ce2-3efdd5582650",
   "metadata": {
    "tags": []
   },
   "source": [
    "As we can see from the histogram above that the data is quite unbalanced. Because of this, we are going to oversample \n",
    "the negative class to match the majority class (the positive class). "
   ]
  },
  {
   "cell_type": "code",
   "execution_count": 4,
   "id": "0c5b56a8-2d13-41aa-ba11-1a29b15440ae",
   "metadata": {
    "tags": []
   },
   "outputs": [
    {
     "name": "stdout",
     "output_type": "stream",
     "text": [
      "shape of resampled data:\n",
      "(2726,)\n",
      "(2726,)\n",
      "Axes(0.125,0.11;0.775x0.77)\n"
     ]
    },
    {
     "data": {
      "image/png": "[encoded data removed]",
      "text/plain": [
       "<Figure size 640x480 with 1 Axes>"
      ]
     },
     "metadata": {},
     "output_type": "display_data"
    }
   ],
   "source": [
    "# Split the training data into 'positive' and 'negative' classes\n",
    "positive_class = df[df['Sentiment'] == 'positive']\n",
    "negative_class = df[df['Sentiment'] == 'negative']\n",
    "\n",
    "# Check the class with the majority of samples\n",
    "if len(positive_class) > len(negative_class):\n",
    "    majority_class = positive_class\n",
    "    minority_class = negative_class\n",
    "else:\n",
    "    majority_class = negative_class\n",
    "    minority_class = positive_class\n",
    "\n",
    "# Oversample the minority class to match the majority class\n",
    "minority_class_resampled = resample(minority_class, replace=True, n_samples=len(majority_class), random_state=42)\n",
    "\n",
    "# Concatenate the resampled minority class with the majority class\n",
    "train_data_resampled = pd.concat([majority_class, minority_class_resampled])\n",
    "\n",
    "# Shuffle the resampled data\n",
    "train_data_resampled = train_data_resampled.sample(frac=1, random_state=42)\n",
    "\n",
    "# Split the data into X and y\n",
    "X_train_resampled = train_data_resampled['Text']\n",
    "y_train_resampled = train_data_resampled['Sentiment']\n",
    "\n",
    "print(\"shape of resampled data:\")\n",
    "print(X_train_resampled.shape)\n",
    "print(y_train_resampled.shape)\n",
    "\n",
    "print(train_data_resampled['Sentiment'].hist())"
   ]
  },
  {
   "cell_type": "markdown",
   "id": "1f2adcce-cc80-4ff6-9b79-6f5b38b6a043",
   "metadata": {},
   "source": [
    "Now we can see, that the data is balanced."
   ]
  },
  {
   "cell_type": "markdown",
   "id": "ed58c50b-2f43-4d77-9978-7648412908c7",
   "metadata": {},
   "source": [
    "### Feature engineering\n",
    "\n",
    "Then we feature engineer our data. We first initialize Count Vectorizer to convert text data into a Bag of Words (BoW) representation. The the vectorizer will tokenize the text data, create a vocabulary of up to 10,000 unique words (features), and count the occurrences of each word in the text.\n",
    "\n",
    "Then we fit the vectorizer to the original training data X_train using the fit_transform method. This step creates a vocabulary based on the text in X_train and transforms X_train into a matrix where each row represents a document (text) from the training data, and each column represents a word from the vocabulary. The values in this matrix are the counts of how many times each word appears in each document.\n",
    "\n",
    "Then we transform the resampled training data into the BoW representation using the same vectorizer. This is necessary to ensure that the BoW representation of both the original and resampled data are consistent.\n",
    "\n",
    "Finally we also transform the original test data X_test into the BoW representation."
   ]
  },
  {
   "cell_type": "code",
   "execution_count": 5,
   "id": "09021f75-45a8-4b7d-b4a5-159000ad1d71",
   "metadata": {
    "tags": []
   },
   "outputs": [],
   "source": [
    "# Initialize the Count Vectorizer for BoW\n",
    "count_vectorizer = CountVectorizer(max_features=10000)\n",
    "\n",
    "# Apply Count Vectorization to the original training data\n",
    "X_train_bow = count_vectorizer.fit_transform(X_train)\n",
    "# Apply Count Vectorization to the resampled training data\n",
    "X_train_bow_resampled = count_vectorizer.transform(X_train_resampled)\n",
    "\n",
    "# Apply Count Vectorization to the original test data\n",
    "X_test_bow = count_vectorizer.transform(X_test)"
   ]
  },
  {
   "cell_type": "markdown",
   "id": "1024898b-fff8-4865-89c8-a54840a1a868",
   "metadata": {},
   "source": [
    "Here we create an instance of TfidfVectorizer with a maximum of 10,000 features. This means that the vectorizer will tokenize the text data, create a vocabulary of up to 10,000 unique words (features), and compute the TF-IDF values for each word in the text.\n",
    "\n",
    "Then we fit the vectorizer to the original training data X_train using the fit_transform method. This step creates a vocabulary based on the text in X_train and transforms X_train into a matrix where each row represents a document (text) from the training data, and each column represents a word from the vocabulary. The values in this matrix are TF-IDF values for each word in each document.\n",
    "\n",
    "Then we transform the resampled training data X_train_resampled into the TF-IDF representation using the same vectorizer.\n",
    "\n",
    "Finally we also transform the original test data X_test into the TF-IDF representation."
   ]
  },
  {
   "cell_type": "code",
   "execution_count": 6,
   "id": "1ce60c34-bc6b-42e1-aed4-320a88385fab",
   "metadata": {
    "tags": []
   },
   "outputs": [],
   "source": [
    "# Initialize the TF-IDF Vectorizer\n",
    "tfidf_vectorizer = TfidfVectorizer(max_features=10000)\n",
    "\n",
    "# Apply TF-IDF Vectorization to the original training data\n",
    "X_train_tfidf = tfidf_vectorizer.fit_transform(X_train)\n",
    "# Apply TF-IDF Vectorization to the resampled training data\n",
    "X_train_tfidf_resampled = tfidf_vectorizer.transform(X_train_resampled)\n",
    "\n",
    "# Apply TF-IDF Vectorization to the original test data\n",
    "X_test_tfidf = tfidf_vectorizer.transform(X_test)"
   ]
  },
  {
   "cell_type": "markdown",
   "id": "1c1050cc-24be-4b53-8704-cd36415a1a8e",
   "metadata": {},
   "source": [
    "### Modelling\n",
    "\n",
    "Here we perform text classification using a Multinomial Naive Bayes (NB) classifier on two different versions of the data: one with the original training data, and one with the resampled training data.\n",
    "\n",
    "We create two instances of the Multinomial Naive Bayes classifier. One is for the original Bag of Words (BoW) transformed training data, and the other is for the BoW-transformed resampled training data.\n",
    "\n",
    "Then we train the models and predict the labels.\n",
    "\n",
    "Finally we evaluate the model performances and print out metrics for both models to compare them."
   ]
  },
  {
   "cell_type": "code",
   "execution_count": 7,
   "id": "f7e08b08-686f-49c6-a020-80d3b478b8b8",
   "metadata": {
    "tags": []
   },
   "outputs": [
    {
     "name": "stdout",
     "output_type": "stream",
     "text": [
      "Original Test Results (Naive Bayes with BoW):\n",
      "Accuracy: 0.8401015228426396\n",
      "              precision    recall  f1-score   support\n",
      "\n",
      "    negative       0.77      0.73      0.75       131\n",
      "    positive       0.87      0.89      0.88       263\n",
      "\n",
      "    accuracy                           0.84       394\n",
      "   macro avg       0.82      0.81      0.82       394\n",
      "weighted avg       0.84      0.84      0.84       394\n",
      "\n",
      "Resmapled Test Results (Naive Bayes with BoW):\n",
      "Accuracy: 0.868020304568528\n",
      "              precision    recall  f1-score   support\n",
      "\n",
      "    negative       0.73      0.95      0.83       131\n",
      "    positive       0.97      0.83      0.89       263\n",
      "\n",
      "    accuracy                           0.87       394\n",
      "   macro avg       0.85      0.89      0.86       394\n",
      "weighted avg       0.89      0.87      0.87       394\n",
      "\n"
     ]
    }
   ],
   "source": [
    "# Initialize a Multinomial Naive Bayes classifier for BoW\n",
    "nb_model_bow = MultinomialNB()\n",
    "# Initialize a Multinomial Naive Bayes classifier for BoW (for resmapled data)\n",
    "nb_model_bow_resampled = MultinomialNB()\n",
    "\n",
    "\n",
    "# Train the Naive Bayes model on the BoW-transformed training data\n",
    "nb_model_bow.fit(X_train_bow, y_train)\n",
    "# Train the Naive Bayes model on the BoW-transformed resampled training data\n",
    "nb_model_bow_resampled.fit(X_train_bow_resampled, y_train_resampled)\n",
    "\n",
    "\n",
    "# Predict the labels on the original test data (BoW)\n",
    "y_test_pred_nb_bow = nb_model_bow.predict(X_test_bow)\n",
    "# Predict the labels on the resmapled test data (BoW)\n",
    "y_test_pred_nb_bow_resampled = nb_model_bow_resampled.predict(X_test_bow)\n",
    "\n",
    "\n",
    "# Evaluate the Naive Bayes model's performance on the original test data (BoW)\n",
    "print(\"Original Test Results (Naive Bayes with BoW):\")\n",
    "print(\"Accuracy:\", accuracy_score(y_test, y_test_pred_nb_bow))\n",
    "print(classification_report(y_test, y_test_pred_nb_bow))\n",
    "\n",
    "\n",
    "# Evaluate the Naive Bayes model's performance on the resmapled test data (BoW)\n",
    "print(\"Resmapled Test Results (Naive Bayes with BoW):\")\n",
    "print(\"Accuracy:\", accuracy_score(y_test, y_test_pred_nb_bow_resampled))\n",
    "print(classification_report(y_test, y_test_pred_nb_bow_resampled))"
   ]
  },
  {
   "cell_type": "markdown",
   "id": "82ed9502-e13d-4b53-83d9-d062e66ce03a",
   "metadata": {},
   "source": [
    "We follow the same tradition as above for each cases:\n",
    "\n",
    " - Multinomial Naive Bayes classifier for TF-IDF\n",
    " - Multinomial Naive Bayes classifier for TF-IDF (for resmapled data)\n",
    " - Logistic Regression model for BoW\n",
    " - Logistic Regression model for BoW (for resampled data)\n",
    " - Logistic Regression model for TF-IDF\n",
    " - Logistic Regression model for TF-IDF (for resampled data)"
   ]
  },
  {
   "cell_type": "code",
   "execution_count": 8,
   "id": "ddfa8f6e-8303-4dab-8c28-049651ccec1c",
   "metadata": {
    "tags": []
   },
   "outputs": [
    {
     "name": "stdout",
     "output_type": "stream",
     "text": [
      "Original Test Results (Naive Bayes with TF-IDF):\n",
      "Accuracy: 0.7284263959390863\n",
      "              precision    recall  f1-score   support\n",
      "\n",
      "    negative       0.96      0.19      0.32       131\n",
      "    positive       0.71      1.00      0.83       263\n",
      "\n",
      "    accuracy                           0.73       394\n",
      "   macro avg       0.84      0.59      0.57       394\n",
      "weighted avg       0.79      0.73      0.66       394\n",
      "\n",
      "Resmapled Test Results (Naive Bayes with TF-IDF):\n",
      "Accuracy: 0.8883248730964467\n",
      "              precision    recall  f1-score   support\n",
      "\n",
      "    negative       0.77      0.95      0.85       131\n",
      "    positive       0.97      0.86      0.91       263\n",
      "\n",
      "    accuracy                           0.89       394\n",
      "   macro avg       0.87      0.90      0.88       394\n",
      "weighted avg       0.90      0.89      0.89       394\n",
      "\n"
     ]
    }
   ],
   "source": [
    "# Initialize a Multinomial Naive Bayes classifier for TF-IDF\n",
    "nb_model_tfidf = MultinomialNB()\n",
    "# Initialize a Multinomial Naive Bayes classifier for TF-IDF (for resmapled data)\n",
    "nb_model_tfidf_resampled = MultinomialNB()\n",
    "\n",
    "\n",
    "# Train the Naive Bayes model on the TF-IDF-transformed training data\n",
    "nb_model_tfidf.fit(X_train_tfidf, y_train)\n",
    "# Train the Naive Bayes model on the TF-IDF-transformed resampled training data\n",
    "nb_model_tfidf_resampled.fit(X_train_tfidf_resampled, y_train_resampled)\n",
    "\n",
    "# Predict the labels on the original test data (TF-IDF)\n",
    "y_test_pred_nb_tfidf = nb_model_tfidf.predict(X_test_tfidf)\n",
    "# Predict the labels on the resmapled test data (TF-IDF)\n",
    "y_test_pred_nb_tfidf_resampled = nb_model_tfidf_resampled.predict(X_test_tfidf)\n",
    "\n",
    "# Evaluate the Naive Bayes model's performance on the original test data (TF-IDF)\n",
    "print(\"Original Test Results (Naive Bayes with TF-IDF):\")\n",
    "print(\"Accuracy:\", accuracy_score(y_test, y_test_pred_nb_tfidf))\n",
    "print(classification_report(y_test, y_test_pred_nb_tfidf))\n",
    "\n",
    "# Evaluate the Naive Bayes model's performance on the resmapled test data (TF-IDF)\n",
    "print(\"Resmapled Test Results (Naive Bayes with TF-IDF):\")\n",
    "print(\"Accuracy:\", accuracy_score(y_test, y_test_pred_nb_tfidf_resampled))\n",
    "print(classification_report(y_test, y_test_pred_nb_tfidf_resampled))"
   ]
  },
  {
   "cell_type": "code",
   "execution_count": 9,
   "id": "bd64af7c-6c68-44aa-9459-575af6812639",
   "metadata": {
    "tags": []
   },
   "outputs": [
    {
     "name": "stdout",
     "output_type": "stream",
     "text": [
      "Original Test Results (Logistic Regression with BoW):\n",
      "Accuracy: 0.8324873096446701\n",
      "              precision    recall  f1-score   support\n",
      "\n",
      "    negative       0.86      0.60      0.70       131\n",
      "    positive       0.83      0.95      0.88       263\n",
      "\n",
      "    accuracy                           0.83       394\n",
      "   macro avg       0.84      0.77      0.79       394\n",
      "weighted avg       0.84      0.83      0.82       394\n",
      "\n",
      "Resmapled Test Results (Logistic Regression with BoW):\n",
      "Accuracy: 0.949238578680203\n",
      "              precision    recall  f1-score   support\n",
      "\n",
      "    negative       0.92      0.93      0.92       131\n",
      "    positive       0.97      0.96      0.96       263\n",
      "\n",
      "    accuracy                           0.95       394\n",
      "   macro avg       0.94      0.94      0.94       394\n",
      "weighted avg       0.95      0.95      0.95       394\n",
      "\n"
     ]
    }
   ],
   "source": [
    "# Initialize a Logistic Regression model for BoW\n",
    "lr_model_bow = LogisticRegression()\n",
    "# Initialize a Logistic Regression model for BoW (for resmapled data)\n",
    "lr_model_bow_resampled = LogisticRegression()\n",
    "\n",
    "\n",
    "# Train the Logistic Regression model on the BoW-transformed training data\n",
    "lr_model_bow.fit(X_train_bow, y_train)\n",
    "# Train the Logistic Regression model on the BoW-transformed resampled training data\n",
    "lr_model_bow_resampled.fit(X_train_bow_resampled, y_train_resampled)\n",
    "\n",
    "\n",
    "# Predict the labels on the original test data (BoW)\n",
    "y_test_pred_lr_bow = lr_model_bow.predict(X_test_bow)\n",
    "# Predict the labels on the resmapled test data (BoW)\n",
    "y_test_pred_lr_bow_resampled = lr_model_bow_resampled.predict(X_test_bow)\n",
    "\n",
    "\n",
    "# Evaluate the Logistic Regression model's performance on the original test data (BoW)\n",
    "print(\"Original Test Results (Logistic Regression with BoW):\")\n",
    "print(\"Accuracy:\", accuracy_score(y_test, y_test_pred_lr_bow))\n",
    "print(classification_report(y_test, y_test_pred_lr_bow))\n",
    "\n",
    "\n",
    "# Evaluate the Logistic Regression model's performance on the resmapled test data (BoW)\n",
    "print(\"Resmapled Test Results (Logistic Regression with BoW):\")\n",
    "print(\"Accuracy:\", accuracy_score(y_test, y_test_pred_lr_bow_resampled))\n",
    "print(classification_report(y_test, y_test_pred_lr_bow_resampled))"
   ]
  },
  {
   "cell_type": "code",
   "execution_count": 10,
   "id": "30a7ce96-d41c-44e1-8980-bcaf2e9755ee",
   "metadata": {
    "tags": []
   },
   "outputs": [
    {
     "name": "stdout",
     "output_type": "stream",
     "text": [
      "Original Test Results (Logistic Regression with TF-IDF):\n",
      "Accuracy: 0.7817258883248731\n",
      "              precision    recall  f1-score   support\n",
      "\n",
      "    negative       0.86      0.41      0.56       131\n",
      "    positive       0.77      0.97      0.86       263\n",
      "\n",
      "    accuracy                           0.78       394\n",
      "   macro avg       0.81      0.69      0.71       394\n",
      "weighted avg       0.80      0.78      0.76       394\n",
      "\n",
      "Resmapled Test Results (Logistic Regression with TF-IDF):\n",
      "Accuracy: 0.9441624365482234\n",
      "              precision    recall  f1-score   support\n",
      "\n",
      "    negative       0.91      0.92      0.92       131\n",
      "    positive       0.96      0.95      0.96       263\n",
      "\n",
      "    accuracy                           0.94       394\n",
      "   macro avg       0.94      0.94      0.94       394\n",
      "weighted avg       0.94      0.94      0.94       394\n",
      "\n"
     ]
    }
   ],
   "source": [
    "# Initialize a Logistic Regression model for TF-IDF\n",
    "lr_model_tfidf = LogisticRegression()\n",
    "# Initialize a Logistic Regression model for TF-IDF (for resmapled data)\n",
    "lr_model_tfidf_resampled = LogisticRegression()\n",
    "\n",
    "# Train the Logistic Regression model on the TF-IDF-transformed training data\n",
    "lr_model_tfidf.fit(X_train_tfidf, y_train)\n",
    "# Train the Logistic Regression model on the TF-IDF-transformed resampled training data\n",
    "lr_model_tfidf_resampled.fit(X_train_tfidf_resampled, y_train_resampled)\n",
    "\n",
    "# Predict the labels on the original test data (TF-IDF)\n",
    "y_test_pred_lr_tfidf = lr_model_tfidf.predict(X_test_tfidf)\n",
    "# Predict the labels on the resmapled test data (TF-IDF)\n",
    "y_test_pred_lr_tfidf_resampled = lr_model_tfidf_resampled.predict(X_test_tfidf)\n",
    "\n",
    "\n",
    "# Evaluate the Logistic Regression model's performance on the original test data (TF-IDF)\n",
    "print(\"Original Test Results (Logistic Regression with TF-IDF):\")\n",
    "print(\"Accuracy:\", accuracy_score(y_test, y_test_pred_lr_tfidf))\n",
    "print(classification_report(y_test, y_test_pred_lr_tfidf))\n",
    "\n",
    "\n",
    "# Evaluate the Logistic Regression model's performance on the resmapled test data (TF-IDF)\n",
    "print(\"Resmapled Test Results (Logistic Regression with TF-IDF):\")\n",
    "print(\"Accuracy:\", accuracy_score(y_test, y_test_pred_lr_tfidf_resampled))\n",
    "print(classification_report(y_test, y_test_pred_lr_tfidf_resampled))"
   ]
  },
  {
   "cell_type": "markdown",
   "id": "34737608-8e5b-40e9-98b8-e36cede522c6",
   "metadata": {},
   "source": [
    "### Feature engineering vol 2.\n",
    "\n",
    "In the above code we didn't use kfolding, but instead we oversampled the minority class to match the majority class.\n",
    "\n",
    "This time we are going to use the StratifiedKFold cross-validator to split the data into k-folds while preserving the distribution of classes. By doing this, we are leaving the data unbalanced to see how the use of k-folds compares to oversampling."
   ]
  },
  {
   "cell_type": "code",
   "execution_count": 11,
   "id": "eb92df12-a9ff-4824-b28a-a880a8ee9259",
   "metadata": {
    "tags": []
   },
   "outputs": [],
   "source": [
    "count_vectorizer = CountVectorizer(max_features=10000)\n",
    "\n",
    "X_train_bow = count_vectorizer.fit_transform(X)\n",
    "\n",
    "X_test_bow = count_vectorizer.transform(X)\n",
    "\n",
    "tfidf_vectorizer = TfidfVectorizer(max_features=10000)\n",
    "\n",
    "X_train_tfidf = tfidf_vectorizer.fit_transform(X)\n",
    "\n",
    "X_test_tfidf = tfidf_vectorizer.transform(X)\n",
    "\n",
    "# Define the number of folds (k)\n",
    "n_splits = 10\n",
    "\n",
    "kf = StratifiedKFold(n_splits=n_splits, shuffle=True, random_state=42)\n"
   ]
  },
  {
   "cell_type": "markdown",
   "id": "7b942bb3-ca47-41b2-a750-d549f844d5ee",
   "metadata": {},
   "source": [
    "### Modelling vol 2.\n",
    "\n",
    "Here we are using a nested loop to iterate over each combination of classifier and vectorizer.\n",
    "For each combination of classifier and vectorizer, we perform k-fold cross-validation.\n",
    "\n",
    "Then for each fold we split the data into training and testing sets, vectorize the text data, fit the model,\n",
    "predict the labels and calculate and evaluate metrics."
   ]
  },
  {
   "cell_type": "code",
   "execution_count": 12,
   "id": "5a4882b5-3ced-4ede-9b90-a094aac62804",
   "metadata": {
    "tags": []
   },
   "outputs": [
    {
     "name": "stdout",
     "output_type": "stream",
     "text": [
      "Classifier: MultinomialNB, Vectorizer: CountVectorizer\n",
      "Mean Accuracy: 0.8200300424738423\n",
      "Mean Precision: 0.8310983730138647\n",
      "Mean Recall: 0.8200300424738423\n",
      "Mean F1 Score: 0.8228867956818174\n",
      "Classifier: MultinomialNB, Vectorizer: TfidfVectorizer\n",
      "Mean Accuracy: 0.7788433647570704\n",
      "Mean Precision: 0.8180054118325544\n",
      "Mean Recall: 0.7788433647570704\n",
      "Mean F1 Score: 0.7351499834803418\n",
      "Classifier: LogisticRegression, Vectorizer: CountVectorizer\n",
      "Mean Accuracy: 0.8454729099761732\n",
      "Mean Precision: 0.8433085437615547\n",
      "Mean Recall: 0.8454729099761732\n",
      "Mean F1 Score: 0.8399839218166084\n",
      "Classifier: LogisticRegression, Vectorizer: TfidfVectorizer\n",
      "Mean Accuracy: 0.8093701439966849\n",
      "Mean Precision: 0.8176857955586021\n",
      "Mean Recall: 0.8093701439966849\n",
      "Mean F1 Score: 0.7888340276438868\n"
     ]
    }
   ],
   "source": [
    "# Define the classifiers and vectorizers\n",
    "classifiers = [MultinomialNB(), LogisticRegression()]\n",
    "vectorizers = [count_vectorizer, tfidf_vectorizer]\n",
    "\n",
    "# Iterate over classifiers and vectorizers\n",
    "for classifier in classifiers:\n",
    "    for vectorizer in vectorizers:\n",
    "        print(f\"Classifier: {classifier.__class__.__name__}, Vectorizer: {vectorizer.__class__.__name__}\")\n",
    "\n",
    "        # Initialize lists to store evaluation metrics for each fold\n",
    "        accuracy_scores = []\n",
    "        precision_scores = []\n",
    "        recall_scores = []\n",
    "        f1_scores = []\n",
    "\n",
    "        for train_index, test_index in kf.split(X, y):\n",
    "            X_train_fold, X_test_fold = X.iloc[train_index], X.iloc[test_index]\n",
    "            y_train_fold, y_test_fold = y.iloc[train_index], y.iloc[test_index]\n",
    "\n",
    "            X_train_vectorized = vectorizer.transform(X_train_fold)\n",
    "            X_test_vectorized = vectorizer.transform(X_test_fold)\n",
    "\n",
    "            model = classifier\n",
    "            model.fit(X_train_vectorized, y_train_fold)\n",
    "\n",
    "            y_test_pred = model.predict(X_test_vectorized)\n",
    "\n",
    "            accuracy = accuracy_score(y_test_fold, y_test_pred)\n",
    "            precision, recall, f1, _ = precision_recall_fscore_support(y_test_fold, y_test_pred, average='weighted')\n",
    "\n",
    "            accuracy_scores.append(accuracy)\n",
    "            precision_scores.append(precision)\n",
    "            recall_scores.append(recall)\n",
    "            f1_scores.append(f1)\n",
    "\n",
    "        # Calculate and print the mean and standard deviation of evaluation metrics across folds\n",
    "        print(\"Mean Accuracy:\", sum(accuracy_scores) / len(accuracy_scores))\n",
    "        print(\"Mean Precision:\", sum(precision_scores) / len(precision_scores))\n",
    "        print(\"Mean Recall:\", sum(recall_scores) / len(recall_scores))\n",
    "        print(\"Mean F1 Score:\", sum(f1_scores) / len(f1_scores))"
   ]
  }
 ],
 "metadata": {
  "kernelspec": {
   "display_name": "Python 3",
   "language": "python",
   "name": "python3"
  },
  "language_info": {
   "codemirror_mode": {
    "name": "ipython",
    "version": 3
   },
   "file_extension": ".py",
   "mimetype": "text/x-python",
   "name": "python",
   "nbconvert_exporter": "python",
   "pygments_lexer": "ipython3",
   "version": "3.10.8"
  }
 },
 "nbformat": 4,
 "nbformat_minor": 5
}
